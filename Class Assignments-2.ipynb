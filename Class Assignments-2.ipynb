{
 "cells": [
  {
   "cell_type": "code",
   "execution_count": 3,
   "id": "3762a12b",
   "metadata": {},
   "outputs": [],
   "source": [
    "class MultipleFunctions():\n",
    "        def Subfields():\n",
    "            AI=['Machine Learning','Neural Networks','Vision','Robotics','Speech Processing','Natural Language Processing']\n",
    "            print(\"Sub-fields in AI are:\")\n",
    "            for SubfieldsAI in AI:\n",
    "                print(SubfieldsAI)\n",
    "\n",
    "        def OddEven():\n",
    "            Number=int(input(\"Enter a number:\"))\n",
    "            if(Number%2==0):\n",
    "                print(Number,\"is Even number\")\n",
    "                message=\"Number is Even number\"\n",
    "            else:\n",
    "                print(Number,\"is odd number\")\n",
    "                message=\"Number is odd number\"\n",
    "                return message\n",
    "        \n",
    "        def Elegible():\n",
    "            Gender=input(\"Your Gender:\")\n",
    "            Age=int(input(\"YourAge:\"))\n",
    "            if(Gender==\"Male\",\"m\"):\n",
    "                if(Age>=21):\n",
    "                    print(\"ELIGIBLE\")\n",
    "                else:\n",
    "                    print(\"NOT ELIGIBLE\")\n",
    "            elif(Gender==\"Female\",\"f\"):\n",
    "                if(Age>=18):\n",
    "                    print(\"ELIGIBLE\")\n",
    "                else:\n",
    "                    print(\"NOT ELIGIBLE\")\n",
    "                    \n",
    "        def Percentage():\n",
    "            Subject1=int(input(\"Subject1=\"))\n",
    "            Subject2=int(input(\"Subject2=\"))\n",
    "            Subject3=int(input(\"Subject3=\"))\n",
    "            Subject4=int(input(\"Subject4=\"))\n",
    "            Subject5=int(input(\"Subject5=\"))\n",
    "            Total=Subject1+Subject2+Subject3+Subject4+Subject5\n",
    "            print(\"Total:\",Total)\n",
    "            Percentage=((Total/500)*100)\n",
    "            print(\"Percentage:\",Percentage)\n",
    "            \n",
    "        def triangle():\n",
    "            Height=int(input(\"Height:\"))\n",
    "            Breadth=int(input(\"Breadth:\"))\n",
    "            print(\"Area formula:(Height*Breadth)/2\")\n",
    "            Area=(Height*Breadth)/2\n",
    "            print(\"Area of Triangle:\",Area)\n",
    "            Height1=int(input(\"Height1:\"))\n",
    "            Height2=int(input(\"Height2:\"))\n",
    "            Breadth=int(input(\"Breadth:\"))\n",
    "            print(\"Perimeter formula:Height1+Height2+Breadth\")\n",
    "            Perimeter=(Height1+Height2+Breadth)\n",
    "            print(\"Perimeter of Triangle:\",Perimeter)\n",
    "            \n",
    "            \n"
   ]
  },
  {
   "cell_type": "code",
   "execution_count": 4,
   "id": "e4af3021",
   "metadata": {},
   "outputs": [
    {
     "name": "stdout",
     "output_type": "stream",
     "text": [
      "Enter a number:4\n",
      "4 is Even number\n"
     ]
    }
   ],
   "source": [
    "MultipleFunctions.OddEven()"
   ]
  },
  {
   "cell_type": "code",
   "execution_count": 5,
   "id": "68c9f3c7",
   "metadata": {},
   "outputs": [
    {
     "name": "stdout",
     "output_type": "stream",
     "text": [
      "Sub-fields in AI are:\n",
      "Machine Learning\n",
      "Neural Networks\n",
      "Vision\n",
      "Robotics\n",
      "Speech Processing\n",
      "Natural Language Processing\n"
     ]
    }
   ],
   "source": [
    "MultipleFunctions.Subfields()"
   ]
  },
  {
   "cell_type": "code",
   "execution_count": 6,
   "id": "df6856fb",
   "metadata": {},
   "outputs": [
    {
     "name": "stdout",
     "output_type": "stream",
     "text": [
      "Your Gender:Male\n",
      "YourAge:18\n",
      "NOT ELIGIBLE\n"
     ]
    }
   ],
   "source": [
    "MultipleFunctions.Elegible()"
   ]
  },
  {
   "cell_type": "code",
   "execution_count": 7,
   "id": "a630c696",
   "metadata": {},
   "outputs": [
    {
     "name": "stdout",
     "output_type": "stream",
     "text": [
      "Subject1=98\n",
      "Subject2=95\n",
      "Subject3=93\n",
      "Subject4=87\n",
      "Subject5=90\n",
      "Total: 463\n",
      "Percentage: 92.60000000000001\n"
     ]
    }
   ],
   "source": [
    "MultipleFunctions.Percentage()"
   ]
  },
  {
   "cell_type": "code",
   "execution_count": 8,
   "id": "d8399b69",
   "metadata": {},
   "outputs": [
    {
     "name": "stdout",
     "output_type": "stream",
     "text": [
      "Height:3\n",
      "Breadth:4\n",
      "Area formula:(Height*Breadth)/2\n",
      "Area of Triangle: 6.0\n",
      "Height1:2\n",
      "Height2:3\n",
      "Breadth:4\n",
      "Perimeter formula:Height1+Height2+Breadth\n",
      "Perimeter of Triangle: 9\n"
     ]
    }
   ],
   "source": [
    "MultipleFunctions.triangle()\n"
   ]
  },
  {
   "cell_type": "code",
   "execution_count": null,
   "id": "94b4e15d",
   "metadata": {},
   "outputs": [],
   "source": []
  }
 ],
 "metadata": {
  "kernelspec": {
   "display_name": "Python 3 (ipykernel)",
   "language": "python",
   "name": "python3"
  },
  "language_info": {
   "codemirror_mode": {
    "name": "ipython",
    "version": 3
   },
   "file_extension": ".py",
   "mimetype": "text/x-python",
   "name": "python",
   "nbconvert_exporter": "python",
   "pygments_lexer": "ipython3",
   "version": "3.11.5"
  }
 },
 "nbformat": 4,
 "nbformat_minor": 5
}
