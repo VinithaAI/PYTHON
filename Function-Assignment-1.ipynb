{
 "cells": [
  {
   "cell_type": "code",
   "execution_count": null,
   "id": "60a7b5a1",
   "metadata": {},
   "outputs": [],
   "source": [
    "print(\"Sub-fields in AI are:\")\n",
    "def Subfields():\n",
    "     List=['Machine Learning','Neural Networks','Vision','Robotics','Speech Processing','Natural Language Processing']\n",
    "for SubfieldsAI in List:\n",
    "    print(SubfieldsAI)\n",
    "    Subfields()\n"
   ]
  },
  {
   "cell_type": "code",
   "execution_count": null,
   "id": "a94cc1fb",
   "metadata": {},
   "outputs": [],
   "source": [
    "def OddEven():\n",
    "    Number=int(input(\"Enter a number:\"))\n",
    "    if(Number%2==0):\n",
    "        print(\"{0} is Even number\".format (Number))\n",
    "        message=\"Number is Even number\"\n",
    "    else:\n",
    "        print(\"{0} is odd number\".format (Number))\n",
    "        message=\"Number is odd number\"\n",
    "        return message\n",
    "OddEven()"
   ]
  },
  {
   "cell_type": "code",
   "execution_count": null,
   "id": "86b9e7b8",
   "metadata": {},
   "outputs": [],
   "source": [
    "Gender=input(\"Your Gender:\")\n",
    "Age=int(input(\"YourAge:\"))\n",
    "def Elegible():\n",
    "    if(Gender==\"Male\",\"m\"):\n",
    "        if(Age>=21):\n",
    "            print(\"ELIGIBLE\")\n",
    "        else:\n",
    "            print(\"NOT ELIGIBLE\")\n",
    "    elif(Gender==\"Female\",\"f\"):\n",
    "        if(Age>=18):\n",
    "            print(\"ELIGIBLE\")\n",
    "        else:\n",
    "            print(\"NOT ELIGIBLE\")\n",
    "Elegible()"
   ]
  },
  {
   "cell_type": "code",
   "execution_count": null,
   "id": "8a47d318",
   "metadata": {},
   "outputs": [],
   "source": [
    "Gender=input(\"Your Gender:\")\n",
    "Age=int(input(\"YourAge:\"))\n",
    "def Elegible():\n",
    "    if(Gender==\"Male\",\"m\"):\n",
    "        if(Age>=21):\n",
    "            print(\"ELIGIBLE\")\n",
    "            Message=\"ELIGIBLE\"\n",
    "        else:\n",
    "            print(\"NOT ELIGIBLE\")\n",
    "            Message=\"NOT ELIGIBLE\"\n",
    "    elif(Gender==\"Female\",\"f\"):\n",
    "        if(Age>=18):\n",
    "            print(\"ELIGIBLE\")\n",
    "            Message=\"ELIGIBLE\"\n",
    "        else:\n",
    "            print(\"NOT ELIGIBLE\")\n",
    "            Message=\"NOT ELIGIBLE\"\n",
    "    return Message\n",
    "Marraigeresult=Elegible()"
   ]
  },
  {
   "cell_type": "code",
   "execution_count": null,
   "id": "9c59f52c",
   "metadata": {},
   "outputs": [],
   "source": [
    "print(Marraigeresult)\n",
    "\n",
    "\n"
   ]
  },
  {
   "cell_type": "code",
   "execution_count": null,
   "id": "b99bf71a",
   "metadata": {},
   "outputs": [],
   "source": [
    "def Percentage():\n",
    "    Subject1=int(input(\"Subject1=\"))\n",
    "    Subject2=int(input(\"Subject2=\"))\n",
    "    Subject3=int(input(\"Subject3=\"))\n",
    "    Subject4=int(input(\"Subject4=\"))\n",
    "    Subject5=int(input(\"Subject5=\"))\n",
    "    Total=Subject1+Subject2+Subject3+Subject4+Subject5\n",
    "    print(\"Total:\",Total)\n",
    "    Percentage=((Total/500)*100)\n",
    "    print(\"Percentage:\",Percentage)\n",
    "Percentage()\n"
   ]
  },
  {
   "cell_type": "code",
   "execution_count": 1,
   "id": "681ffbc2",
   "metadata": {},
   "outputs": [
    {
     "name": "stdout",
     "output_type": "stream",
     "text": [
      "Height:3\n",
      "Breadth:4\n",
      "Area formula:(Height*Breadth)/2\n",
      "Area of Triangle: 6.0\n",
      "Height1:3\n",
      "Height2:4\n",
      "Breadth:45\n",
      "Perimeter formula:Height1+Height2+Breadth\n",
      "Perimeter of Triangle: 52\n"
     ]
    }
   ],
   "source": [
    "def triangle():\n",
    "    Height=int(input(\"Height:\"))\n",
    "    Breadth=int(input(\"Breadth:\"))\n",
    "    print(\"Area formula:(Height*Breadth)/2\")\n",
    "    Area=(Height*Breadth)/2\n",
    "    print(\"Area of Triangle:\",Area)\n",
    "    Height1=int(input(\"Height1:\"))\n",
    "    Height2=int(input(\"Height2:\"))\n",
    "    Breadth=int(input(\"Breadth:\"))\n",
    "    print(\"Perimeter formula:Height1+Height2+Breadth\")\n",
    "    Perimeter=(Height1+Height2+Breadth)\n",
    "    print(\"Perimeter of Triangle:\",Perimeter)\n",
    "Triangle=triangle()"
   ]
  },
  {
   "cell_type": "code",
   "execution_count": null,
   "id": "e6a7b524",
   "metadata": {},
   "outputs": [],
   "source": []
  }
 ],
 "metadata": {
  "kernelspec": {
   "display_name": "Python 3 (ipykernel)",
   "language": "python",
   "name": "python3"
  },
  "language_info": {
   "codemirror_mode": {
    "name": "ipython",
    "version": 3
   },
   "file_extension": ".py",
   "mimetype": "text/x-python",
   "name": "python",
   "nbconvert_exporter": "python",
   "pygments_lexer": "ipython3",
   "version": "3.11.5"
  }
 },
 "nbformat": 4,
 "nbformat_minor": 5
}
