{
 "cells": [
  {
   "cell_type": "code",
   "execution_count": 24,
   "id": "5c393122",
   "metadata": {},
   "outputs": [
    {
     "name": "stdout",
     "output_type": "stream",
     "text": [
      "Sub-fields in AI are:\n",
      "Machine Learning\n",
      "Neural Networks\n",
      "Vision\n",
      "Robotics\n",
      "Speech Processing\n",
      "Natural Language Processing\n"
     ]
    }
   ],
   "source": [
    "class SubfieldsInAI():\n",
    "    print(\"Sub-fields in AI are:\")\n",
    "    AI=['Machine Learning','Neural Networks','Vision','Robotics','Speech Processing','Natural Language Processing']\n",
    "    def Subfields():\n",
    "        for SubfieldsAI in AI:\n",
    "            print(SubfieldsAI)\n",
    "SubfieldsInAI.Subfields()\n"
   ]
  },
  {
   "cell_type": "code",
   "execution_count": 33,
   "id": "258399a1",
   "metadata": {},
   "outputs": [
    {
     "name": "stdout",
     "output_type": "stream",
     "text": [
      "Enter a number:4\n",
      "4 is Even number\n"
     ]
    }
   ],
   "source": [
    "class OddEven():\n",
    "    def OddEven():\n",
    "        Number=int(input(\"Enter a number:\"))\n",
    "        if(Number%2==0):\n",
    "            print(Number,\"is Even number\")\n",
    "            message=\"Number is Even number\"\n",
    "        else:\n",
    "            print(Number,\"is odd number\")\n",
    "            message=\"Number is odd number\"\n",
    "            return message\n",
    "OddEven.OddEven()"
   ]
  },
  {
   "cell_type": "code",
   "execution_count": 35,
   "id": "18a60475",
   "metadata": {},
   "outputs": [
    {
     "name": "stdout",
     "output_type": "stream",
     "text": [
      "Your Gender:Male\n",
      "YourAge:18\n",
      "NOT ELIGIBLE\n"
     ]
    }
   ],
   "source": [
    "class ElegibilityForMarraige():\n",
    "    def Elegible():\n",
    "        Gender=input(\"Your Gender:\")\n",
    "        Age=int(input(\"YourAge:\"))\n",
    "        if(Gender==\"Male\",\"m\"):\n",
    "            if(Age>=21):\n",
    "                print(\"ELIGIBLE\")\n",
    "            else:\n",
    "                print(\"NOT ELIGIBLE\")\n",
    "        elif(Gender==\"Female\",\"f\"):\n",
    "            if(Age>=18):\n",
    "                print(\"ELIGIBLE\")\n",
    "            else:\n",
    "                print(\"NOT ELIGIBLE\")\n",
    "ElegibilityForMarraige.Elegible()"
   ]
  },
  {
   "cell_type": "code",
   "execution_count": 37,
   "id": "93563189",
   "metadata": {},
   "outputs": [
    {
     "name": "stdout",
     "output_type": "stream",
     "text": [
      "Subject1=98\n",
      "Subject2=87\n",
      "Subject3=95\n",
      "Subject4=95\n",
      "Subject5=93\n",
      "Total: 468\n",
      "Percentage: 93.60000000000001\n"
     ]
    }
   ],
   "source": [
    "class FindPercent():\n",
    "    def Percentage():\n",
    "        Subject1=int(input(\"Subject1=\"))\n",
    "        Subject2=int(input(\"Subject2=\"))\n",
    "        Subject3=int(input(\"Subject3=\"))\n",
    "        Subject4=int(input(\"Subject4=\"))\n",
    "        Subject5=int(input(\"Subject5=\"))\n",
    "        Total=Subject1+Subject2+Subject3+Subject4+Subject5\n",
    "        print(\"Total:\",Total)\n",
    "        Percentage=((Total/500)*100)\n",
    "        print(\"Percentage:\",Percentage)\n",
    "FindPercent.Percentage()"
   ]
  },
  {
   "cell_type": "code",
   "execution_count": 38,
   "id": "b6b7f3f2",
   "metadata": {},
   "outputs": [
    {
     "name": "stdout",
     "output_type": "stream",
     "text": [
      "Height:32\n",
      "Breadth:34\n",
      "Area formula:(Height*Breadth)/2\n",
      "Area of Triangle: 544.0\n",
      "Height1:2\n",
      "Height2:4\n",
      "Breadth:4\n",
      "Perimeter formula:Height1+Height2+Breadth\n",
      "Perimeter of Triangle: 10\n"
     ]
    }
   ],
   "source": [
    "class triangle():\n",
    "    def triangle():\n",
    "        Height=int(input(\"Height:\"))\n",
    "        Breadth=int(input(\"Breadth:\"))\n",
    "        print(\"Area formula:(Height*Breadth)/2\")\n",
    "        Area=(Height*Breadth)/2\n",
    "        print(\"Area of Triangle:\",Area)\n",
    "        Height1=int(input(\"Height1:\"))\n",
    "        Height2=int(input(\"Height2:\"))\n",
    "        Breadth=int(input(\"Breadth:\"))\n",
    "        print(\"Perimeter formula:Height1+Height2+Breadth\")\n",
    "        Perimeter=(Height1+Height2+Breadth)\n",
    "        print(\"Perimeter of Triangle:\",Perimeter)\n",
    "triangle.triangle()"
   ]
  },
  {
   "cell_type": "code",
   "execution_count": null,
   "id": "352f0d97",
   "metadata": {},
   "outputs": [],
   "source": []
  }
 ],
 "metadata": {
  "kernelspec": {
   "display_name": "Python 3 (ipykernel)",
   "language": "python",
   "name": "python3"
  },
  "language_info": {
   "codemirror_mode": {
    "name": "ipython",
    "version": 3
   },
   "file_extension": ".py",
   "mimetype": "text/x-python",
   "name": "python",
   "nbconvert_exporter": "python",
   "pygments_lexer": "ipython3",
   "version": "3.11.5"
  }
 },
 "nbformat": 4,
 "nbformat_minor": 5
}
