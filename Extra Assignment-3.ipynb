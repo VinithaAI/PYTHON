{
 "cells": [
  {
   "cell_type": "code",
   "execution_count": null,
   "id": "4e386f6e",
   "metadata": {},
   "outputs": [],
   "source": [
    "i=int(input(\"value:\"))\n",
    "if(i==10):\n",
    "    print(\"Correct\")\n",
    "else:\n",
    "    print(\"Not Correct\")"
   ]
  },
  {
   "cell_type": "code",
   "execution_count": 1,
   "id": "aadd14ac",
   "metadata": {},
   "outputs": [
    {
     "name": "stdout",
     "output_type": "stream",
     "text": [
      "Enter the Password:HOPE@123\n",
      "Your password is correct\n"
     ]
    }
   ],
   "source": [
    "Password=input(\"Enter the Password:\")\n",
    "if(Password=='HOPE@123'):\n",
    "    print(\"Your password is correct\")\n",
    "else:\n",
    "    print(\"Your password is not correct\")\n"
   ]
  },
  {
   "cell_type": "code",
   "execution_count": 2,
   "id": "5f581de0",
   "metadata": {},
   "outputs": [
    {
     "name": "stdout",
     "output_type": "stream",
     "text": [
      "age:20\n",
      "Adult\n"
     ]
    }
   ],
   "source": [
    "Age=int(input(\"age:\"))\n",
    "if(Age<18):\n",
    "    print(\"Children\")\n",
    "elif(Age<=40):\n",
    "    print(\"Adult\")\n",
    "elif(Age<60):\n",
    "    print(\"Citizen\")\n",
    "else:\n",
    "    print(\"Senior Citizen\")"
   ]
  },
  {
   "cell_type": "code",
   "execution_count": 4,
   "id": "30b3002a",
   "metadata": {},
   "outputs": [
    {
     "name": "stdout",
     "output_type": "stream",
     "text": [
      "Enter any number:1\n",
      "No is positive\n"
     ]
    }
   ],
   "source": [
    "Number=int(input(\"Enter any number:\"))\n",
    "if(Number>0):\n",
    "    print(\"No is positive\")\n",
    "elif(Number<0):\n",
    "    print(\"No is negative\")\n",
    "elif(Number==0):\n",
    "    print(\"No is zero\")\n",
    "else:\n",
    "    print(\"invalid number\")"
   ]
  },
  {
   "cell_type": "code",
   "execution_count": 5,
   "id": "d202471c",
   "metadata": {},
   "outputs": [
    {
     "name": "stdout",
     "output_type": "stream",
     "text": [
      "Enter a number to check:22\n",
      "No is not divisible by 5\n"
     ]
    }
   ],
   "source": [
    "Number=int(input(\"Enter a number to check:\"))\n",
    "if(Number%5==0):\n",
    "    print(\"No is divisible by 5\")\n",
    "else:\n",
    "    print(\"No is not divisible by 5\")"
   ]
  },
  {
   "cell_type": "code",
   "execution_count": null,
   "id": "d13eb32a",
   "metadata": {},
   "outputs": [],
   "source": []
  }
 ],
 "metadata": {
  "kernelspec": {
   "display_name": "Python 3 (ipykernel)",
   "language": "python",
   "name": "python3"
  },
  "language_info": {
   "codemirror_mode": {
    "name": "ipython",
    "version": 3
   },
   "file_extension": ".py",
   "mimetype": "text/x-python",
   "name": "python",
   "nbconvert_exporter": "python",
   "pygments_lexer": "ipython3",
   "version": "3.11.5"
  }
 },
 "nbformat": 4,
 "nbformat_minor": 5
}
