{
 "cells": [
  {
   "cell_type": "code",
   "execution_count": 2,
   "id": "38940665",
   "metadata": {},
   "outputs": [
    {
     "name": "stdout",
     "output_type": "stream",
     "text": [
      "HOPE AI\n"
     ]
    }
   ],
   "source": [
    "print(\"HOPE AI\")\n"
   ]
  },
  {
   "cell_type": "code",
   "execution_count": 4,
   "id": "ce1e4dba",
   "metadata": {},
   "outputs": [
    {
     "name": "stdout",
     "output_type": "stream",
     "text": [
      "Enter your institute name? :HOPE AI\n"
     ]
    }
   ],
   "source": [
    "Institute=input(\"Enter your institute name? :\")"
   ]
  },
  {
   "cell_type": "code",
   "execution_count": 5,
   "id": "717c94b7",
   "metadata": {},
   "outputs": [
    {
     "name": "stdout",
     "output_type": "stream",
     "text": [
      "Enter your name:Raj\n",
      "Enter your age:15\n",
      "Enter your school name:Guru school\n",
      "Enter your drgree:B.E CSE\n"
     ]
    }
   ],
   "source": [
    "Name=input(\"Enter your name:\")\n",
    "Age=int(input(\"Enter your age:\"))\n",
    "School=input(\"Enter your school name:\")\n",
    "Degree=input(\"Enter your drgree:\")"
   ]
  },
  {
   "cell_type": "code",
   "execution_count": 12,
   "id": "a471174e",
   "metadata": {},
   "outputs": [
    {
     "name": "stdout",
     "output_type": "stream",
     "text": [
      "a= 43\n",
      "b= 34\n",
      "add= 77\n"
     ]
    }
   ],
   "source": [
    "A=43\n",
    "print(\"a=\",A)\n",
    "B=34\n",
    "print(\"b=\",B)\n",
    "Add=A+B\n",
    "print(\"add=\",Add)"
   ]
  },
  {
   "cell_type": "code",
   "execution_count": 13,
   "id": "ac45fc70",
   "metadata": {},
   "outputs": [
    {
     "name": "stdout",
     "output_type": "stream",
     "text": [
      "a= 43\n",
      "b= 34\n",
      "Sub= 9\n"
     ]
    }
   ],
   "source": [
    "A=43\n",
    "print(\"a=\",A)\n",
    "B=34\n",
    "print(\"b=\",B)\n",
    "sub=A-B\n",
    "print(\"Sub=\",sub)"
   ]
  },
  {
   "cell_type": "code",
   "execution_count": 15,
   "id": "6c001ed3",
   "metadata": {},
   "outputs": [
    {
     "name": "stdout",
     "output_type": "stream",
     "text": [
      "a= 63\n",
      "b= 97\n",
      "Mul= 6111\n"
     ]
    }
   ],
   "source": [
    "A=63\n",
    "print(\"a=\",A)\n",
    "B=97\n",
    "print(\"b=\",B)\n",
    "mul=A*B\n",
    "print(\"Mul=\",mul)"
   ]
  },
  {
   "cell_type": "code",
   "execution_count": 17,
   "id": "0ee545c7",
   "metadata": {},
   "outputs": [
    {
     "name": "stdout",
     "output_type": "stream",
     "text": [
      "a= 76\n",
      "b= 31\n",
      "Float Div= 2.4516129032258065\n"
     ]
    }
   ],
   "source": [
    "A=76\n",
    "print(\"a=\",A)\n",
    "B=31\n",
    "print(\"b=\",B)\n",
    "Div=A/B\n",
    "print(\"Float Div=\",Div)"
   ]
  },
  {
   "cell_type": "code",
   "execution_count": 19,
   "id": "ac78d852",
   "metadata": {},
   "outputs": [
    {
     "name": "stdout",
     "output_type": "stream",
     "text": [
      "a= 76\n",
      "b= 31\n",
      "Floor Div= 2\n"
     ]
    }
   ],
   "source": [
    "A=76\n",
    "print(\"a=\",A)\n",
    "B=31\n",
    "print(\"b=\",B)\n",
    "Div=A//B\n",
    "print(\"Floor Div=\",Div)"
   ]
  },
  {
   "cell_type": "code",
   "execution_count": 20,
   "id": "4db6eab2",
   "metadata": {},
   "outputs": [
    {
     "name": "stdout",
     "output_type": "stream",
     "text": [
      "a= 76\n",
      "b= 31\n",
      "Modulo= 14\n"
     ]
    }
   ],
   "source": [
    "A=76\n",
    "print(\"a=\",A)\n",
    "B=31\n",
    "print(\"b=\",B)\n",
    "mod=A%B\n",
    "print(\"Modulo=\",mod)"
   ]
  },
  {
   "cell_type": "code",
   "execution_count": 23,
   "id": "8154c0a5",
   "metadata": {},
   "outputs": [
    {
     "name": "stdout",
     "output_type": "stream",
     "text": [
      "a= 4\n",
      "b= 4\n",
      "Power= 256\n"
     ]
    }
   ],
   "source": [
    "A=4\n",
    "print(\"a=\",A)\n",
    "B=4\n",
    "print(\"b=\",B)\n",
    "power=pow(A,B)\n",
    "print(\"Power=\",power)"
   ]
  },
  {
   "cell_type": "code",
   "execution_count": null,
   "id": "06e4d053",
   "metadata": {},
   "outputs": [],
   "source": []
  }
 ],
 "metadata": {
  "kernelspec": {
   "display_name": "Python 3 (ipykernel)",
   "language": "python",
   "name": "python3"
  },
  "language_info": {
   "codemirror_mode": {
    "name": "ipython",
    "version": 3
   },
   "file_extension": ".py",
   "mimetype": "text/x-python",
   "name": "python",
   "nbconvert_exporter": "python",
   "pygments_lexer": "ipython3",
   "version": "3.11.5"
  }
 },
 "nbformat": 4,
 "nbformat_minor": 5
}
